{
 "cells": [
  {
   "cell_type": "code",
   "execution_count": 154,
   "metadata": {},
   "outputs": [
    {
     "name": "stdout",
     "output_type": "stream",
     "text": [
      "Files already downloaded and verified\n",
      "Files already downloaded and verified\n"
     ]
    }
   ],
   "source": [
    "import numpy as np\n",
    "import matplotlib.pyplot as plt\n",
    "import torch\n",
    "import torchvision\n",
    "from torchvision import datasets as datasets\n",
    "import torch.nn as nn\n",
    "from torch import optim\n",
    "import torch.nn.functional as F\n",
    "\n",
    "import torchvision.transforms as transform\n",
    "t = transform.Compose([\n",
    "    transform.RandomHorizontalFlip(0.5),\n",
    "    transform.RandomVerticalFlip(0.5),\n",
    "    transform.ToTensor(),\n",
    "    transform.Normalize((0.5, 0.5, 0.5), (0.5, 0.5, 0.5))])\n",
    "\n",
    "train_data = torchvision.datasets.CIFAR10(root='./data', train=True, download=True, transform=t)\n",
    "test_data = torchvision.datasets.CIFAR10(root='./data', train=False, download=True, transform=t)\n",
    "trainloader = torch.utils.data.DataLoader(train_data,batch_size=20, shuffle=True)\n",
    "testloader = torch.utils.data.DataLoader(test_data,batch_size=20)"
   ]
  },
  {
   "cell_type": "code",
   "execution_count": 155,
   "metadata": {},
   "outputs": [],
   "source": [
    "class NN(nn.Module):\n",
    "    def __init__(self):\n",
    "        super(NN,self).__init__()\n",
    "        self.conv1 = nn.Conv2d(3,20,5)\n",
    "        self.pool = nn.MaxPool2d(2,2)\n",
    "        self.conv2 = nn.Conv2d(20,30,5)\n",
    "        self.fc1 = nn.Linear(30*10*10,75)\n",
    "        self.fc2 = nn.Linear(75,2)\n",
    "    \n",
    "    def forward(self,image):\n",
    "        image = F.relu(self.conv1(image))\n",
    "        image = self.pool(image)\n",
    "        image = F.relu(self.conv2(image))\n",
    "        image = image.view(-1,30*10*10)\n",
    "        image = F.relu(self.fc1(image))\n",
    "        image = self.fc2(image)\n",
    "        \n",
    "        return image       "
   ]
  },
  {
   "cell_type": "code",
   "execution_count": 156,
   "metadata": {},
   "outputs": [],
   "source": [
    "net = NN()\n",
    "CEloss = nn.CrossEntropyLoss()\n",
    "SGD_optim = torch.optim.SGD(net.parameters(),lr=0.001,momentum=0.9)"
   ]
  },
  {
   "cell_type": "code",
   "execution_count": null,
   "metadata": {},
   "outputs": [],
   "source": [
    "cum_trainlossarray = []\n",
    "cum_testlossarray = []\n",
    "count = 25\n",
    "for epoch in range(count):\n",
    "        traincount = 0\n",
    "        cum_trainloss = 0\n",
    "        net.train()\n",
    "        for images, labels in trainloader:\n",
    "            images = images[labels<2]\n",
    "            labels = labels[labels<2]\n",
    "\n",
    "            if(labels.size(0)==0):\n",
    "                continue\n",
    "\n",
    "            traincount += images.size(0)\n",
    "            # print(count)\n",
    "        \n",
    "            #    print(images.size())\n",
    "            # print(labels.size())\n",
    "\n",
    "            loss1 = net(images)\n",
    "            #    print(loss1.size())\n",
    "            trainloss = CEloss(loss1,labels)\n",
    "            SGD_optim.zero_grad()\n",
    "            trainloss.backward()\n",
    "            SGD_optim.step()\n",
    "            cum_trainloss += trainloss.item()*images.size(0)\n",
    "\n",
    "        accuracy = 0\n",
    "        testcount = 0\n",
    "        cum_testloss = 0\n",
    "        correct = 0\n",
    "        for images, labels in testloader:\n",
    "            images = images[labels<2]\n",
    "            labels = labels[labels<2]\n",
    "\n",
    "            if(labels.size(0)==0):\n",
    "                continue\n",
    "\n",
    "            testcount += images.size(0)\n",
    "\n",
    "            testloss = CEloss(net(images),labels)\n",
    "            cum_testloss += testloss.item()*images.size(0)\n",
    "\n",
    "            predict_prob = net(images)\n",
    "            _,out = torch.max(predict_prob.data,1)  \n",
    "\n",
    "            for i in range(len(labels)):\n",
    "                if labels[i] == out[i]:\n",
    "                    correct += 1 \n",
    "\n",
    "\n",
    "        accuracy = correct/testcount\n",
    "        cum_trainlossarray.append(cum_trainloss/traincount)\n",
    "        cum_testlossarray.append(cum_testloss/testcount)\n",
    "\n",
    "        print(f\"Epoch {epoch}..\" f\"Train_loss: {cum_trainloss/traincount:.3f}..\" f\"Test_loss: {cum_testloss/testcount:.3f}..\"\n",
    "                      f\"Accuracy: {accuracy:.3f}..\")\n",
    "        \n",
    "        \n"
   ]
  },
  {
   "cell_type": "code",
   "execution_count": 145,
   "metadata": {},
   "outputs": [
    {
     "data": {
      "image/png": "[encoded data removed]",
      "text/plain": [
       "<Figure size 432x288 with 1 Axes>"
      ]
     },
     "metadata": {
      "needs_background": "light"
     },
     "output_type": "display_data"
    }
   ],
   "source": [
    "plt.plot(cum_trainlossarray, label='Training loss')\n",
    "plt.plot(cum_testlossarray, label='Validation loss')\n",
    "plt.legend(frameon=False)\n",
    "plt.savefig('cnn_2', dpi=100)\n",
    "plt.show()"
   ]
  },
  {
   "cell_type": "code",
   "execution_count": null,
   "metadata": {},
   "outputs": [],
   "source": []
  }
 ],
 "metadata": {
  "kernelspec": {
   "display_name": "Python 3",
   "language": "python",
   "name": "python3"
  },
  "language_info": {
   "codemirror_mode": {
    "name": "ipython",
    "version": 3
   },
   "file_extension": ".py",
   "mimetype": "text/x-python",
   "name": "python",
   "nbconvert_exporter": "python",
   "pygments_lexer": "ipython3",
   "version": "3.7.3"
  }
 },
 "nbformat": 4,
 "nbformat_minor": 2
}
